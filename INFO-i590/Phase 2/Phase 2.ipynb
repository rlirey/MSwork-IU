{
 "cells": [
  {
   "cell_type": "markdown",
   "metadata": {},
   "source": [
    "# INFO-I590: Intro to Python\n",
    "## Final Project - Phase 2"
   ]
  },
  {
   "cell_type": "markdown",
   "metadata": {},
   "source": [
    "### Import dependencies"
   ]
  },
  {
   "cell_type": "code",
   "execution_count": 1,
   "metadata": {},
   "outputs": [
    {
     "name": "stderr",
     "output_type": "stream",
     "text": [
      "/Library/Frameworks/Python.framework/Versions/3.6/lib/python3.6/importlib/_bootstrap.py:219: RuntimeWarning: numpy.dtype size changed, may indicate binary incompatibility. Expected 96, got 88\n",
      "  return f(*args, **kwds)\n"
     ]
    }
   ],
   "source": [
    "import numpy as np\n",
    "import os\n",
    "import matplotlib.pyplot as plt\n",
    "import pandas as pd\n",
    "import sklearn\n",
    "from sklearn.cluster import KMeans\n",
    "from sklearn.preprocessing import scale\n",
    "import sklearn.metrics as sm\n",
    "from sklearn import datasets\n",
    "from sklearn.metrics import confusion_matrix, classification_report\n",
    "\n",
    "%matplotlib inline"
   ]
  },
  {
   "cell_type": "markdown",
   "metadata": {},
   "source": [
    "### Import data and impute missing values"
   ]
  },
  {
   "cell_type": "code",
   "execution_count": 2,
   "metadata": {},
   "outputs": [],
   "source": [
    "data = pd.read_csv(\"breast-cancer-wisconsin.data\", header = None, na_values = '?')\n",
    "data.columns = ['scn','a2','a3','a4','a5','a6','a7','a8','a9','a10','class']\n",
    "data[\"a7\"] = data[\"a7\"].fillna(data[\"a7\"].median())"
   ]
  },
  {
   "cell_type": "markdown",
   "metadata": {},
   "source": [
    "### Pare down dataset to features and target"
   ]
  },
  {
   "cell_type": "code",
   "execution_count": 4,
   "metadata": {},
   "outputs": [],
   "source": [
    "X = data[[\"a2\",\"a3\",\"a4\",\"a5\",\"a6\",\"a7\",\"a8\",\"a9\",\"a10\"]]\n",
    "y = data[\"class\"]"
   ]
  },
  {
   "cell_type": "markdown",
   "metadata": {},
   "source": [
    "### Fit K-Means model to data"
   ]
  },
  {
   "cell_type": "code",
   "execution_count": 6,
   "metadata": {},
   "outputs": [
    {
     "data": {
      "text/plain": [
       "KMeans(algorithm='auto', copy_x=True, init='k-means++', max_iter=300,\n",
       "    n_clusters=4, n_init=10, n_jobs=1, precompute_distances='auto',\n",
       "    random_state=42, tol=0.0001, verbose=0)"
      ]
     },
     "execution_count": 6,
     "metadata": {},
     "output_type": "execute_result"
    }
   ],
   "source": [
    "cluster = KMeans(n_clusters = 4, random_state = 42)\n",
    "cluster.fit(X)"
   ]
  },
  {
   "cell_type": "code",
   "execution_count": 18,
   "metadata": {},
   "outputs": [
    {
     "name": "stdout",
     "output_type": "stream",
     "text": [
      "[1 3 1 2 1 0 1 1 1 1 1 1 1 1 0 2 1 1 3 1 3 2 1 2 1 3 1 1 1 1 1 1 2 1 1 1 2\n",
      " 1 3 3 2 2 0 2 2 1 3 1 1 2 2 1 2 0 3 2 2 2 3 2 2 1 2 2 1 2 1 3 0 1 1 2 1 3\n",
      " 2 1 1 1 1 1 1 1 1 1 0 2 3 0 1 1 1 1 1 1 1 1 1 1 2 0 2 1 1 1 0 1 3 0 1 3 1\n",
      " 3 3 0 1 1 1 0 1 1 1 1 0 3 0 1 3 1 3 1 1 1 0 1 1 1 1 1 1 1 1 1 3 1 1 1 3 1\n",
      " 1 0 1 3 2 1 1 3 1 1 1 0 3 1 1 1 1 1 0 2 1 1 1 1 1 0 3 0 1 2 1 3 1 1 1 0 3\n",
      " 1 0 0 0 1 0 0 1 1 1 1 3 1 1 1 0 3 1 1 1 0 2 1 1 1 0 0 1 0 0 2 1 1 2 1 1 0\n",
      " 1 3 3 1 3 2 1 0 3 0 2 3 1 1 0 2 0 3 1 1 1 1 1 1 0 3 1 1 1 3 3 0 2 3 1 1 1\n",
      " 3 3 0 0 3 2 1 3 3 2 1 3 1 3 1 1 1 1 1 1 3 1 1 3 3 3 0 0 1 2 0 1 1 2 3 1 3\n",
      " 2 1 1 3 2 1 0 1 3 3 1 1 2 1 1 1 2 1 1 2 3 0 1 3 3 1 1 3 1 1 3 1 2 3 3 1 1\n",
      " 3 3 1 3 1 1 3 3 1 1 1 0 1 1 1 2 3 1 1 2 0 1 1 1 0 2 3 0 3 1 1 1 1 0 0 1 1\n",
      " 1 1 1 1 1 1 1 1 1 1 1 3 1 1 1 1 3 1 1 1 1 0 1 1 1 1 1 1 1 1 0 1 1 1 1 1 1\n",
      " 1 1 1 1 1 2 1 3 1 3 1 1 1 1 0 1 1 1 0 1 2 1 1 1 1 1 1 3 3 2 1 1 1 3 1 1 1\n",
      " 1 1 1 1 1 0 1 1 1 0 1 1 3 2 1 1 1 1 1 1 1 2 3 3 1 1 1 1 1 1 1 1 1 1 1 0 1\n",
      " 1 0 0 1 1 1 0 2 1 1 3 1 0 3 1 1 1 1 1 1 1 1 1 1 1 0 1 1 1 1 1 1 1 0 0 1 1\n",
      " 1 3 1 1 3 3 1 1 1 1 1 1 3 1 1 1 1 1 1 1 1 1 1 1 1 1 1 1 0 1 1 2 1 1 1 1 1\n",
      " 1 1 1 1 1 1 1 1 1 1 0 1 1 3 0 3 0 1 1 2 1 1 1 1 1 1 0 0 1 1 1 0 1 2 1 2 3\n",
      " 3 1 3 1 1 1 1 1 1 1 1 2 3 2 1 1 0 1 3 2 0 1 1 1 1 1 1 1 1 1 1 1 1 1 2 1 1\n",
      " 1 1 1 1 2 1 1 2 1 1 1 1 1 1 1 1 1 1 1 0 1 1 1 1 1 1 1 1 2 3 1 1 1 1 1 1 1\n",
      " 1 1 2 0 0 1 1 1 1 1 1 1 1 1 0 0 1 1 1 1 1 1 1 1 1 2 1 1 1 1 2 2 2]\n"
     ]
    }
   ],
   "source": [
    "labels = cluster.predict(X)\n",
    "print(labels)"
   ]
  },
  {
   "cell_type": "markdown",
   "metadata": {},
   "source": [
    "### Calculate and print centroids"
   ]
  },
  {
   "cell_type": "code",
   "execution_count": 8,
   "metadata": {},
   "outputs": [],
   "source": [
    "centroids = cluster.cluster_centers_"
   ]
  },
  {
   "cell_type": "code",
   "execution_count": 9,
   "metadata": {},
   "outputs": [
    {
     "name": "stdout",
     "output_type": "stream",
     "text": [
      "[[6.7625     8.3875     8.425      7.75       6.775      9.2125\n",
      "  7.375      7.7375     3.7875    ]\n",
      " [2.94493392 1.24449339 1.36563877 1.29295154 2.03964758 1.28414097\n",
      "  2.06167401 1.20044053 1.07709251]\n",
      " [7.46478873 7.02816901 6.67605634 4.1971831  5.53521127 3.30985915\n",
      "  5.38028169 6.81690141 2.30985915]\n",
      " [7.23404255 4.85106383 5.04255319 4.86170213 4.11702128 9.38297872\n",
      "  5.26595745 3.78723404 1.64893617]]\n"
     ]
    }
   ],
   "source": [
    "print(centroids)"
   ]
  },
  {
   "cell_type": "markdown",
   "metadata": {},
   "source": [
    "### Calculate Inertia"
   ]
  },
  {
   "cell_type": "code",
   "execution_count": 13,
   "metadata": {},
   "outputs": [
    {
     "name": "stdout",
     "output_type": "stream",
     "text": [
      "14983.7891\n"
     ]
    }
   ],
   "source": [
    "# Initial inertia calculation\n",
    "inertia = cluster.inertia_\n",
    "print(round(inertia,4))"
   ]
  },
  {
   "cell_type": "code",
   "execution_count": 19,
   "metadata": {},
   "outputs": [],
   "source": [
    "# Create a range of 1 to 15 or more...\n",
    "ks = range(1,15)\n",
    "inertias = []"
   ]
  },
  {
   "cell_type": "code",
   "execution_count": 21,
   "metadata": {},
   "outputs": [],
   "source": [
    "for k in ks:\n",
    "    # Create a KMeans instance with k clusters: model\n",
    "    model = KMeans(n_clusters = k)\n",
    "    \n",
    "    # Fit model to samples\n",
    "    model.fit(X)\n",
    "    \n",
    "    # Append the inertia to the list of inertias\n",
    "    inertias.append(model.inertia_)"
   ]
  },
  {
   "cell_type": "code",
   "execution_count": 23,
   "metadata": {},
   "outputs": [
    {
     "data": {
      "image/png": "[encoded data removed]",
      "text/plain": [
       "<Figure size 432x288 with 1 Axes>"
      ]
     },
     "metadata": {},
     "output_type": "display_data"
    }
   ],
   "source": [
    "# Plot ks vs inertias\n",
    "plt.plot(ks, inertias, '-o')\n",
    "plt.xlabel('number of clusters, k')\n",
    "plt.ylabel('inertia')\n",
    "plt.title('Inertia for k clusters')\n",
    "plt.xticks(ks)\n",
    "plt.show()"
   ]
  },
  {
   "cell_type": "markdown",
   "metadata": {},
   "source": [
    "Good clustering is a tradeoff between inertia and number of clusters. Based on the above plot, the optimal number of clusters is probably around 5 clusters. If we allow for more clusters, the inertia will certainly be reduced, but a choice of 5 for the number of clusters appears to be a reasonable middle ground in the 'elbow' of the plot."
   ]
  },
  {
   "cell_type": "markdown",
   "metadata": {},
   "source": [
    "### Revise Data Variation"
   ]
  },
  {
   "cell_type": "code",
   "execution_count": 84,
   "metadata": {},
   "outputs": [],
   "source": [
    "sd = []\n",
    "for i in list(X.columns):\n",
    "    sd.append(str(round(X[i].std(),4)))\n",
    "labels = ['0','a2','a3','a4','a5','a6','a7','a8','a9','a10']"
   ]
  },
  {
   "cell_type": "code",
   "execution_count": 87,
   "metadata": {},
   "outputs": [
    {
     "data": {
      "image/png": "[encoded data removed]",
      "text/plain": [
       "<Figure size 432x288 with 1 Axes>"
      ]
     },
     "metadata": {},
     "output_type": "display_data"
    }
   ],
   "source": [
    "fig, ax = plt.subplots()\n",
    "plt.plot(sd,'o')\n",
    "ax.set_xticklabels(labels)\n",
    "plt.xlabel('Feature')\n",
    "plt.ylabel('Standard Deviation')\n",
    "plt.title('Standard Deviation for each feature')\n",
    "plt.show()"
   ]
  },
  {
   "cell_type": "markdown",
   "metadata": {},
   "source": [
    "Although the above graphic is not ideal for visualizing the standard deviations of each feature, careful review of the graph suggests that 'a3', 'a7', and 'a9' have the highest variances. 'a4' and 'a5' are not far from consideration as well."
   ]
  },
  {
   "cell_type": "markdown",
   "metadata": {},
   "source": [
    "### Implement Normalization"
   ]
  },
  {
   "cell_type": "code",
   "execution_count": 30,
   "metadata": {},
   "outputs": [],
   "source": [
    "from sklearn.pipeline import make_pipeline\n",
    "from sklearn.preprocessing import StandardScaler"
   ]
  },
  {
   "cell_type": "code",
   "execution_count": 32,
   "metadata": {},
   "outputs": [],
   "source": [
    "scaler = StandardScaler()\n",
    "kmeans = KMeans(n_clusters = 5, random_state = 42)\n",
    "pipeline = make_pipeline(scaler, kmeans)"
   ]
  },
  {
   "cell_type": "code",
   "execution_count": 37,
   "metadata": {},
   "outputs": [],
   "source": [
    "# Use pipeline to fit and predict model\n",
    "pipeline.fit(X)\n",
    "labels = pipeline.predict(X)"
   ]
  },
  {
   "cell_type": "code",
   "execution_count": 44,
   "metadata": {},
   "outputs": [
    {
     "data": {
      "text/plain": [
       "array([0, 4, 0, 2, 0, 3, 0, 0, 0, 0, 0, 0, 0, 0, 3, 2, 0, 0, 4, 0, 4, 2,\n",
       "       0, 2, 0, 4, 0, 0, 0, 0, 0, 0, 2, 0, 0, 0, 3, 0, 4, 4, 3, 2, 3, 2,\n",
       "       2, 0, 2, 0, 0, 2, 4, 0, 2, 1, 4, 2, 2, 2, 4, 4, 2, 0, 2, 2, 0, 1,\n",
       "       0, 2, 1, 0, 0, 1, 0, 3, 4, 0, 0, 0, 0, 0, 0, 0, 0, 0, 1, 1, 4, 3,\n",
       "       0, 0, 0, 0, 0, 0, 0, 0, 0, 0, 1, 3, 2, 0, 0, 4, 1, 4, 4, 3, 0, 4,\n",
       "       0, 4, 4, 3, 0, 0, 0, 1, 0, 0, 0, 0, 3, 4, 3, 0, 4, 0, 4, 0, 0, 0,\n",
       "       3, 0, 0, 0, 0, 0, 0, 0, 0, 0, 4, 0, 0, 0, 4, 0, 2, 1, 0, 4, 3, 0,\n",
       "       0, 4, 0, 0, 0, 1, 2, 0, 0, 0, 0, 0, 3, 1, 0, 0, 0, 0, 0, 1, 4, 3,\n",
       "       0, 2, 0, 4, 0, 0, 0, 3, 4, 0, 3, 1, 3, 0, 3, 3, 0, 0, 0, 0, 2, 0,\n",
       "       0, 0, 3, 3, 0, 0, 0, 3, 2, 0, 0, 0, 1, 3, 0, 3, 3, 2, 0, 0, 3, 0,\n",
       "       0, 3, 0, 4, 4, 0, 2, 2, 0, 3, 4, 3, 2, 4, 0, 0, 1, 2, 1, 4, 0, 0,\n",
       "       0, 0, 0, 0, 3, 4, 0, 0, 0, 4, 4, 3, 2, 4, 0, 0, 0, 2, 4, 3, 3, 4,\n",
       "       3, 0, 4, 4, 1, 0, 2, 0, 4, 0, 0, 0, 0, 0, 0, 1, 0, 0, 4, 4, 4, 3,\n",
       "       1, 0, 2, 3, 0, 0, 2, 4, 0, 3, 2, 0, 0, 4, 2, 0, 1, 0, 4, 2, 0, 0,\n",
       "       3, 0, 0, 0, 2, 0, 0, 2, 4, 3, 0, 4, 4, 0, 0, 4, 0, 0, 4, 0, 2, 4,\n",
       "       4, 0, 0, 4, 4, 0, 4, 0, 0, 4, 4, 0, 0, 0, 3, 0, 0, 0, 4, 4, 0, 0,\n",
       "       2, 3, 0, 0, 0, 1, 2, 4, 1, 4, 0, 0, 0, 0, 1, 3, 0, 0, 0, 0, 0, 0,\n",
       "       0, 0, 0, 0, 0, 0, 0, 4, 0, 0, 0, 0, 4, 0, 0, 0, 0, 2, 0, 0, 0, 0,\n",
       "       0, 0, 0, 0, 1, 0, 0, 0, 0, 0, 0, 0, 0, 0, 0, 0, 3, 0, 4, 0, 3, 0,\n",
       "       0, 0, 0, 3, 0, 0, 0, 3, 0, 2, 0, 0, 0, 0, 0, 0, 4, 4, 2, 0, 0, 0,\n",
       "       4, 0, 0, 0, 0, 0, 0, 0, 0, 3, 0, 0, 0, 3, 0, 0, 3, 3, 0, 0, 0, 0,\n",
       "       0, 0, 0, 3, 2, 4, 0, 0, 0, 0, 0, 0, 0, 0, 0, 0, 0, 3, 0, 0, 1, 3,\n",
       "       0, 0, 0, 3, 4, 0, 0, 4, 0, 3, 4, 0, 0, 0, 0, 0, 0, 0, 0, 0, 0, 0,\n",
       "       1, 0, 0, 0, 0, 0, 0, 0, 3, 3, 0, 0, 0, 4, 0, 0, 4, 4, 0, 0, 0, 0,\n",
       "       0, 0, 2, 0, 0, 0, 0, 0, 0, 0, 0, 0, 0, 0, 0, 0, 0, 0, 3, 0, 0, 2,\n",
       "       0, 0, 0, 0, 0, 0, 0, 0, 0, 0, 0, 0, 0, 0, 0, 3, 0, 0, 4, 3, 3, 3,\n",
       "       0, 0, 2, 0, 0, 0, 0, 0, 0, 3, 3, 0, 0, 0, 3, 0, 4, 0, 3, 4, 4, 0,\n",
       "       4, 0, 0, 0, 0, 0, 0, 0, 0, 2, 4, 2, 0, 0, 3, 0, 4, 3, 1, 0, 0, 0,\n",
       "       0, 0, 0, 0, 0, 0, 0, 0, 0, 0, 3, 0, 0, 0, 0, 0, 0, 2, 0, 0, 3, 0,\n",
       "       0, 0, 0, 0, 0, 0, 0, 0, 0, 0, 1, 0, 0, 0, 0, 0, 0, 0, 0, 2, 4, 0,\n",
       "       0, 0, 0, 0, 0, 0, 0, 0, 2, 3, 3, 0, 0, 0, 0, 0, 0, 0, 0, 0, 1, 3,\n",
       "       0, 0, 0, 0, 0, 0, 0, 0, 0, 2, 0, 0, 0, 0, 3, 2, 3], dtype=int32)"
      ]
     },
     "execution_count": 44,
     "metadata": {},
     "output_type": "execute_result"
    }
   ],
   "source": [
    "labels"
   ]
  },
  {
   "cell_type": "code",
   "execution_count": 51,
   "metadata": {},
   "outputs": [
    {
     "name": "stdout",
     "output_type": "stream",
     "text": [
      "[[1.77777778 1.10740741 1.19259259 1.13703704 1.97037037 1.24814815\n",
      "  2.00740741 1.06296296 1.07407407]\n",
      " [7.37623762 5.23762376 5.37623762 4.58415842 4.40594059 9.35643564\n",
      "  5.30693069 3.78217822 1.68316832]\n",
      " [7.32786885 7.29508197 6.81967213 4.52459016 5.70491803 3.3442623\n",
      "  5.62295082 7.50819672 2.2295082 ]\n",
      " [6.65333333 8.30666667 8.36       8.09333333 6.70666667 9.18666667\n",
      "  7.41333333 8.         3.89333333]\n",
      " [4.77604167 1.53645833 1.73958333 1.609375   2.1875     1.36458333\n",
      "  2.21875    1.44270833 1.16145833]]\n"
     ]
    }
   ],
   "source": [
    "# Find and print centroids\n",
    "k = kmeans.fit(X)\n",
    "centroids = k.cluster_centers_\n",
    "print(centroids)"
   ]
  },
  {
   "cell_type": "code",
   "execution_count": null,
   "metadata": {},
   "outputs": [],
   "source": []
  }
 ],
 "metadata": {
  "kernelspec": {
   "display_name": "Python 3",
   "language": "python",
   "name": "python3"
  },
  "language_info": {
   "codemirror_mode": {
    "name": "ipython",
    "version": 3
   },
   "file_extension": ".py",
   "mimetype": "text/x-python",
   "name": "python",
   "nbconvert_exporter": "python",
   "pygments_lexer": "ipython3",
   "version": "3.6.4"
  }
 },
 "nbformat": 4,
 "nbformat_minor": 2
}
